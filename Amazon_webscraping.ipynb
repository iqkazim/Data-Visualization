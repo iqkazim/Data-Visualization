{
 "cells": [
  {
   "cell_type": "code",
   "execution_count": 114,
   "id": "c9073aa4",
   "metadata": {},
   "outputs": [],
   "source": [
    "import time\n",
    "import datetime\n",
    "import smtplib\n",
    "import requests\n",
    "from bs4 import BeautifulSoup\n",
    "import csv\n",
    "import pandas as pd"
   ]
  },
  {
   "cell_type": "code",
   "execution_count": 115,
   "id": "d2d15b50",
   "metadata": {},
   "outputs": [],
   "source": [
    "URL = 'https://www.amazon.com/Feelin-Good-Tees-Periodically-Charcoal/dp/B00QSNKIMI/ref=sxin_14_pa_sp_search_thematic_sspa?crid=3OZOFBB04STNH&cv_ct_cx=quotes%2Btshirt&keywords=quotes%2Btshirt&pd_rd_i=B00QSNKIMI&pd_rd_r=2ef49d21-3e27-44ec-a9ef-875394a2d1d1&pd_rd_w=ylrtm&pd_rd_wg=Yeofg&pf_rd_p=d484aebd-b7ce-4693-ac0b-ad202ba9c758&pf_rd_r=XP6YAX45H5H8PNMKVQMS&qid=1648463718&sprefix=quotes%2Btshirt%2Caps%2C170&sr=1-2-71c6d84d-aad8-489d-9765-ab054a263c92-spons&psc=1&spLa=ZW5jcnlwdGVkUXVhbGlmaWVyPUEzRkhDSTYzTVVQSDYyJmVuY3J5cHRlZElkPUEwMjE2NjgwMjBHQUVFSUlHWVZUUCZlbmNyeXB0ZWRBZElkPUEwMjkwNzgzVTBFWE83VFM0RzY2JndpZGdldE5hbWU9c3Bfc2VhcmNoX3RoZW1hdGljJmFjdGlvbj1jbGlja1JlZGlyZWN0JmRvTm90TG9nQ2xpY2s9dHJ1ZQ=='\n",
    "headers = {\"User-Agent\": \"Mozilla/5.0 (Windows NT 10.0; Win64; x64) AppleWebKit/537.36 (KHTML, like Gecko) Chrome/99.0.4844.82 Safari/537.36\",\"Accept\": \"text/html,application/xhtml+xml,application/xml;q=0.9,image/avif,image/webp,image/apng,*/*;q=0.8\", \"Accept-Encoding\": \"gzip, deflate\",\"DNT\":\"1\",\"Connection\":\"close\",\"Upgrade-Insecure-Requests\": \"1\"}\n",
    "page = requests.get(URL,headers=headers)\n",
    "soup1 = BeautifulSoup(page.content, \"html.parser\")\n",
    "soup2 = BeautifulSoup(soup1.prettify(),\"html.parser\")\n",
    "\n",
    "title = soup2.find(id='productTitle').get_text()\n",
    "rating = soup2.find(id=\"acrCustomerReviewText\").get_text()\n",
    "description = soup2.find(id='productDescription').get_text()\n",
    "# print(title)\n",
    "# print(rating)\n",
    "# print(description)\n",
    "\n",
    "           \n",
    "           \n",
    "           \n",
    "           \n",
    "           \n",
    "           "
   ]
  },
  {
   "cell_type": "code",
   "execution_count": 116,
   "id": "ae034ea1",
   "metadata": {},
   "outputs": [],
   "source": [
    "Product_Name = title.strip()\n",
    "Ratings = rating.strip()\n",
    "Product_Description = description.strip()\n",
    "\n",
    "# print(Product_Name)\n",
    "# print(Ratings)\n",
    "# print(Product_Description)"
   ]
  },
  {
   "cell_type": "code",
   "execution_count": 117,
   "id": "7293787f",
   "metadata": {},
   "outputs": [],
   "source": [
    "today = datetime.date.today()\n",
    "# print(today)"
   ]
  },
  {
   "cell_type": "code",
   "execution_count": 118,
   "id": "df24bff4",
   "metadata": {},
   "outputs": [],
   "source": [
    "header = ['Product Name', 'Number of Ratings', 'Description','Date']\n",
    "data = [Product_Name,Ratings,Product_Description,today]\n",
    "\n",
    "with open('AmazonWebScraperDataset.csv','w', newline='',encoding='UTF8') as  f:\n",
    "    writer = csv.writer(f)\n",
    "    writer.writerow(header)\n",
    "    writer.writerow(data)\n",
    "    \n"
   ]
  },
  {
   "cell_type": "code",
   "execution_count": 119,
   "id": "0b2678e9",
   "metadata": {},
   "outputs": [],
   "source": [
    "# To append the data\n",
    "\n",
    "with open('AmazonWebScraperDataset.csv','a+', newline='',encoding='UTF8') as  f:\n",
    "    writer = csv.writer(f)\n",
    "    writer.writerow(data)\n"
   ]
  },
  {
   "cell_type": "code",
   "execution_count": 120,
   "id": "bc4d6671",
   "metadata": {},
   "outputs": [],
   "source": [
    "def price_monitor():\n",
    "    URL = 'https://www.amazon.com/Feelin-Good-Tees-Periodically-Charcoal/dp/B00QSNKIMI/ref=sxin_14_pa_sp_search_thematic_sspa?crid=3OZOFBB04STNH&cv_ct_cx=quotes%2Btshirt&keywords=quotes%2Btshirt&pd_rd_i=B00QSNKIMI&pd_rd_r=2ef49d21-3e27-44ec-a9ef-875394a2d1d1&pd_rd_w=ylrtm&pd_rd_wg=Yeofg&pf_rd_p=d484aebd-b7ce-4693-ac0b-ad202ba9c758&pf_rd_r=XP6YAX45H5H8PNMKVQMS&qid=1648463718&sprefix=quotes%2Btshirt%2Caps%2C170&sr=1-2-71c6d84d-aad8-489d-9765-ab054a263c92-spons&psc=1&spLa=ZW5jcnlwdGVkUXVhbGlmaWVyPUEzRkhDSTYzTVVQSDYyJmVuY3J5cHRlZElkPUEwMjE2NjgwMjBHQUVFSUlHWVZUUCZlbmNyeXB0ZWRBZElkPUEwMjkwNzgzVTBFWE83VFM0RzY2JndpZGdldE5hbWU9c3Bfc2VhcmNoX3RoZW1hdGljJmFjdGlvbj1jbGlja1JlZGlyZWN0JmRvTm90TG9nQ2xpY2s9dHJ1ZQ=='\n",
    "    headers = {\"User-Agent\": \"Mozilla/5.0 (Windows NT 10.0; Win64; x64) AppleWebKit/537.36 (KHTML, like Gecko) Chrome/99.0.4844.82 Safari/537.36\",\"Accept\": \"text/html,application/xhtml+xml,application/xml;q=0.9,image/avif,image/webp,image/apng,*/*;q=0.8\", \"Accept-Encoding\": \"gzip, deflate\",\"DNT\":\"1\",\"Connection\":\"close\",\"Upgrade-Insecure-Requests\": \"1\"}\n",
    "    page = requests.get(URL,headers=headers)\n",
    "    soup1 = BeautifulSoup(page.content, \"html.parser\")\n",
    "    soup2 = BeautifulSoup(soup1.prettify(),\"html.parser\")\n",
    "\n",
    "    title = soup2.find(id='productTitle').get_text()\n",
    "    rating = soup2.find(id=\"acrCustomerReviewText\").get_text()\n",
    "    description = soup2.find(id='productDescription').get_text()\n",
    "    \n",
    "    Product_Name = title.strip()\n",
    "    Ratings = rating.strip()\n",
    "    Product_Description = description.strip()\n",
    "    \n",
    "    today = datetime.date.today()\n",
    "    header = ['Product Name', 'Number of Ratings', 'Description','Date']\n",
    "    data = [Product_Name,Ratings,Product_Description,today]\n",
    "    \n",
    "    with open('AmazonWebScraperDataset.csv','a+', newline='',encoding='UTF8') as  f:\n",
    "        writer = csv.writer(f)\n",
    "        writer.writerow(data)\n",
    "    "
   ]
  },
  {
   "cell_type": "code",
   "execution_count": 121,
   "id": "e569defd",
   "metadata": {},
   "outputs": [],
   "source": [
    "# while(True):\n",
    "#     price_monitor()\n",
    "#     time.sleep(5)"
   ]
  },
  {
   "cell_type": "code",
   "execution_count": 122,
   "id": "16469d18",
   "metadata": {},
   "outputs": [
    {
     "name": "stdout",
     "output_type": "stream",
     "text": [
      "                                        Product Name Number of Ratings  \\\n",
      "0  Feelin Good Tees Wear This Shirt Periodically ...     1,514 ratings   \n",
      "1  Feelin Good Tees Wear This Shirt Periodically ...     1,514 ratings   \n",
      "\n",
      "                                         Description        Date  \n",
      "0  I Wear This Shirt Periodically T-Shirt. The be...  2022-03-28  \n",
      "1  I Wear This Shirt Periodically T-Shirt. The be...  2022-03-28  \n"
     ]
    }
   ],
   "source": [
    "df = pd.read_csv(r'C:\\Users\\Kazim Iqbal\\AmazonWebScraperDataset.csv')\n",
    "print(df)"
   ]
  },
  {
   "cell_type": "code",
   "execution_count": null,
   "id": "15f0d6a3",
   "metadata": {},
   "outputs": [],
   "source": []
  }
 ],
 "metadata": {
  "kernelspec": {
   "display_name": "Python 3 (ipykernel)",
   "language": "python",
   "name": "python3"
  },
  "language_info": {
   "codemirror_mode": {
    "name": "ipython",
    "version": 3
   },
   "file_extension": ".py",
   "mimetype": "text/x-python",
   "name": "python",
   "nbconvert_exporter": "python",
   "pygments_lexer": "ipython3",
   "version": "3.9.4"
  }
 },
 "nbformat": 4,
 "nbformat_minor": 5
}

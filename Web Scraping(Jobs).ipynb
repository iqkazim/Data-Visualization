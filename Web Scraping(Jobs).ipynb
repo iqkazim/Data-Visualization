{
 "cells": [
  {
   "cell_type": "code",
   "execution_count": 118,
   "id": "47880fdf",
   "metadata": {},
   "outputs": [],
   "source": [
    "import requests\n",
    "import csv\n",
    "from bs4 import BeautifulSoup\n",
    "import pandas as pd"
   ]
  },
  {
   "cell_type": "code",
   "execution_count": 133,
   "id": "89137f5b",
   "metadata": {},
   "outputs": [],
   "source": [
    "def extract(page):\n",
    "    headers = {'User Agent':'Mozilla/5.0 (Windows NT 10.0; Win64; x64) AppleWebKit/537.36 (KHTML, like Gecko) Chrome/99.0.4844.82 Safari/537.36'}\n",
    "    URL = f'https://es.indeed.com/ofertas?q=data%20analyst%20junior&l=spain&start={page}&vjk=d1bfb681df4ac0c1'\n",
    "    r = requests.get(URL,headers)\n",
    "    soup = BeautifulSoup(r.content,'html.parser')\n",
    "    return soup\n",
    "    \n",
    "def transform(soup):\n",
    "    divs = soup.find_all('div', class_ ='job_seen_beacon')\n",
    "#     for tag in soup.select(\".resultContent span[title]\"):\n",
    "#              title =tag.text \n",
    "    for i in divs:\n",
    "        title = i.select_one(\"span[title]\").text\n",
    "        company = i.find('span', class_='companyName').text.strip()\n",
    "        try:\n",
    "            salary = i.find('div', class_ = 'salary-snippet').text.strip()\n",
    "        except:\n",
    "            salary = ''\n",
    "        summary = i.find('div', class_ = 'job-snippet').text.strip().replace('\\n', '') \n",
    "    \n",
    "        job = {\n",
    "            'Title': title,\n",
    "            'Company': company,\n",
    "            'Salary': salary,\n",
    "            'Description': summary\n",
    "            }\n",
    "    \n",
    "        joblist.append(job)\n",
    "    \n",
    "    return\n",
    "\n",
    "joblist = []\n",
    "\n",
    "for i in range(0,50,10):\n",
    "    e = extract(i)\n",
    "    transform(e)\n",
    "\n",
    "Jobs = pd.DataFrame(joblist)\n",
    "Jobs\n",
    "Jobs.to_csv('Jobs.csv')"
   ]
  },
  {
   "cell_type": "code",
   "execution_count": null,
   "id": "53ba0847",
   "metadata": {},
   "outputs": [],
   "source": [
    " "
   ]
  }
 ],
 "metadata": {
  "kernelspec": {
   "display_name": "Python 3 (ipykernel)",
   "language": "python",
   "name": "python3"
  },
  "language_info": {
   "codemirror_mode": {
    "name": "ipython",
    "version": 3
   },
   "file_extension": ".py",
   "mimetype": "text/x-python",
   "name": "python",
   "nbconvert_exporter": "python",
   "pygments_lexer": "ipython3",
   "version": "3.9.4"
  }
 },
 "nbformat": 4,
 "nbformat_minor": 5
}
